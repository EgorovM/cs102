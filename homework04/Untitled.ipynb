{
 "cells": [
  {
   "cell_type": "code",
   "execution_count": 1,
   "metadata": {},
   "outputs": [],
   "source": [
    "VK_CONFIG = {\n",
    "    'domain': \"https://api.vk.com/method\",\n",
    "    'access_token': \"ac3ff17fb5d83ab12a342e177697a25ea9f353049d61449e69e180b7b308563877631c3eeb44a1d2d6700\",\n",
    "    'version': \"5.103\",\n",
    "}\n",
    "\n",
    "\n",
    "PLOTLY_CONFIG = {\n",
    "    'username': 'Имя пользователя Plot.ly',\n",
    "    'api_key': 'Ключ доступа Plot.ly',\n",
    "}\n"
   ]
  },
  {
   "cell_type": "code",
   "execution_count": 2,
   "metadata": {},
   "outputs": [],
   "source": [
    "\n",
    "def get_friends(user_id, fields=''):\n",
    "    \"\"\" Вернуть данных о друзьях пользователя\n",
    "\n",
    "    :param user_id: идентификатор пользователя, список друзей которого нужно получить\n",
    "    :param fields: список полей, которые нужно получить для каждого пользователя\n",
    "    \"\"\"\n",
    "    assert isinstance(user_id, int), \"user_id must be positive integer\"\n",
    "    assert isinstance(fields, str), \"fields must be string\"\n",
    "    assert user_id > 0, \"user_id must be positive integer\"\n",
    "\n",
    "    query = (f\"{VK_CONFIG['domain']}/\" +\n",
    "            \"friends.get?\" +\n",
    "            f\"access_token={VK_CONFIG['access_token']}&\" +\n",
    "            f\"user_id={user_id}&\" +\n",
    "            f\"fields={fields}&\" +\n",
    "            f\"v={VK_CONFIG['version']}\")\n",
    "    response = requests.get(query)\n",
    "\n",
    "    return response.json()\n"
   ]
  },
  {
   "cell_type": "code",
   "execution_count": 3,
   "metadata": {},
   "outputs": [],
   "source": [
    "from igraph import Graph, plot\n",
    "import numpy as np\n",
    "\n",
    "from api import get_friends\n",
    "\n",
    "def get_network(users_ids, as_edgelist=True):\n",
    "    vertices = set()\n",
    "    graph = {}\n",
    "\n",
    "    for user_id in users_ids:\n",
    "        vertices.add(user_id)\n",
    "\n",
    "        friends = get_friends(user_id)\n",
    "\n",
    "        if not 'error' in friends:\n",
    "            for user_friend in friends['response']['items']:\n",
    "                vertices.add(user_friend)\n",
    "\n",
    "    vertices = [vert for vert in vertices]\n",
    "\n",
    "    if as_edgelist:\n",
    "        edges = []\n",
    "\n",
    "        for user_id in vertices:\n",
    "            friends = get_friends(user_id)\n",
    "\n",
    "            if not 'error' in friends:\n",
    "                for user_friend in friends['response']['items']:\n",
    "                    if user_friend in vertices:\n",
    "                        edges.append((user_id, user_friend))\n",
    "        \n",
    "        return edges\n",
    "\n",
    "    else:\n",
    "        pass\n",
    "    return graph\n",
    "\n",
    "def plot_graph(graph):\n",
    "    get_network([364629895, 313489913, 307593556, 342841693, 511527390])\n"
   ]
  },
  {
   "cell_type": "code",
   "execution_count": 4,
   "metadata": {},
   "outputs": [],
   "source": [
    "edges = get_network([556991512, 244018833])"
   ]
  },
  {
   "cell_type": "code",
   "execution_count": 5,
   "metadata": {},
   "outputs": [],
   "source": [
    "vertices = set()"
   ]
  },
  {
   "cell_type": "code",
   "execution_count": 6,
   "metadata": {},
   "outputs": [],
   "source": [
    "for i in edges:\n",
    "    vertices.add(i[0])"
   ]
  },
  {
   "cell_type": "code",
   "execution_count": 7,
   "metadata": {},
   "outputs": [],
   "source": [
    "vertices = [vert for vert in vertices]"
   ]
  },
  {
   "cell_type": "code",
   "execution_count": 8,
   "metadata": {},
   "outputs": [],
   "source": [
    "g = Graph(vertex_attrs={\"label\":vertices},\n",
    "    edges=edges, directed=False)"
   ]
  },
  {
   "cell_type": "code",
   "execution_count": 9,
   "metadata": {},
   "outputs": [
    {
     "data": {
      "text/plain": [
       "<igraph.Graph at 0x10d78be50>"
      ]
     },
     "execution_count": 9,
     "metadata": {},
     "output_type": "execute_result"
    }
   ],
   "source": [
    "g.simplify(multiple=True, loops=True)"
   ]
  },
  {
   "cell_type": "code",
   "execution_count": null,
   "metadata": {},
   "outputs": [],
   "source": [
    "communities = g.community_edge_betweenness(directed=False)\n",
    "clusters = communities.as_clustering()"
   ]
  },
  {
   "cell_type": "code",
   "execution_count": null,
   "metadata": {},
   "outputs": [],
   "source": [
    "pal = igraph.drawing.colors.ClusterColoringPalette(len(clusters))\n",
    "g.vs['color'] = pal.get_many(clusters.membership)"
   ]
  },
  {
   "cell_type": "code",
   "execution_count": null,
   "metadata": {},
   "outputs": [],
   "source": [
    "bplot(g)"
   ]
  },
  {
   "cell_type": "code",
   "execution_count": 69,
   "metadata": {},
   "outputs": [],
   "source": [
    "from normilize_text import normilize_texts\n",
    "from gensim.models.ldamulticore import LdaModel\n",
    "from gensim.corpora.dictionary import Dictionary"
   ]
  },
  {
   "cell_type": "code",
   "execution_count": 73,
   "metadata": {},
   "outputs": [],
   "source": [
    "common_texts = normilize_texts(\"itmoru\")\n",
    "common_texts = [text.split() for text in common_texts]"
   ]
  },
  {
   "cell_type": "code",
   "execution_count": 75,
   "metadata": {},
   "outputs": [],
   "source": [
    "common_dictionary = Dictionary([text.split()])\n",
    "common_corpus = [common_dictionary.doc2bow(text) for text in common_texts]\n",
    "lda = LdaModel(common_corpus, num_topics=10)"
   ]
  },
  {
   "cell_type": "code",
   "execution_count": 77,
   "metadata": {},
   "outputs": [],
   "source": [
    "other_texts = [common_texts[0]]\n",
    "other_corpus = [common_dictionary.doc2bow(text) for text in other_texts]\n",
    "unseen_doc = other_corpus[0]"
   ]
  },
  {
   "cell_type": "code",
   "execution_count": 78,
   "metadata": {},
   "outputs": [],
   "source": [
    "vector = lda[unseen_doc]"
   ]
  },
  {
   "cell_type": "code",
   "execution_count": 79,
   "metadata": {},
   "outputs": [
    {
     "data": {
      "text/plain": [
       "[(0, 0.90042573), (3, 0.089816466)]"
      ]
     },
     "execution_count": 79,
     "metadata": {},
     "output_type": "execute_result"
    }
   ],
   "source": [
    "vector"
   ]
  },
  {
   "cell_type": "code",
   "execution_count": null,
   "metadata": {},
   "outputs": [],
   "source": []
  }
 ],
 "metadata": {
  "kernelspec": {
   "display_name": "cs102",
   "language": "python",
   "name": "cs102"
  },
  "language_info": {
   "codemirror_mode": {
    "name": "ipython",
    "version": 3
   },
   "file_extension": ".py",
   "mimetype": "text/x-python",
   "name": "python",
   "nbconvert_exporter": "python",
   "pygments_lexer": "ipython3",
   "version": "3.7.4"
  }
 },
 "nbformat": 4,
 "nbformat_minor": 4
}
