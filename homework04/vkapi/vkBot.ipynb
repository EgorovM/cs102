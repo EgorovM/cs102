{
 "cells": [
  {
   "cell_type": "code",
   "execution_count": 56,
   "metadata": {},
   "outputs": [],
   "source": [
    "import vk_api\n",
    "import time\n",
    "import requests\n",
    "import json\n",
    "import os\n",
    "\n",
    "from vk_api.longpoll import VkLongPoll, VkEventType\n",
    "from bs4 import BeautifulSoup as bs"
   ]
  },
  {
   "cell_type": "code",
   "execution_count": 69,
   "metadata": {},
   "outputs": [],
   "source": [
    "class User:\n",
    "    def __init__(self, user_id, group, name):\n",
    "        self.user_id = user_id\n",
    "        self.group = group\n",
    "        self.name = name\n",
    "    \n",
    "    @staticmethod\n",
    "    def getById(user_id):\n",
    "        user_file = open(f\"user{user_id}.txt\")\n",
    "        user_prop = eval(user_file.read())\n",
    "        user_file.close()\n",
    "        \n",
    "        user = User(user_prop[\"user_id\"], user_prop[\"name\"], user_prop[\"group\"])\n",
    "        \n",
    "        return user\n",
    "    \n",
    "    @staticmethod\n",
    "    def is_exist(user_id):\n",
    "        return os.path.isfile(f\"user{user_id}.txt\")\n",
    "    \n",
    "    def get_assistant(self):\n",
    "        html_doc = requests.get(f\"http://www.ifmo.ru/ru/schedule/0/{self.group}/0/raspisanie_zanyatiy_{self.group}.htm\")\n",
    "        \n",
    "        return html_doc\n",
    "    \n",
    "    def save(self):\n",
    "        user_file = open(f\"user{self.user_id}.txt\", \"w\")\n",
    "        \n",
    "        user_file.write(str({\n",
    "            \"user_id\": self.user_id,\n",
    "            \"group\": self.group.upper(),\n",
    "            \"name\": self.name\n",
    "        }))\n",
    "        \n",
    "        user_file.close()"
   ]
  },
  {
   "cell_type": "code",
   "execution_count": 58,
   "metadata": {},
   "outputs": [],
   "source": [
    "user = User.getById(313489913)"
   ]
  },
  {
   "cell_type": "code",
   "execution_count": 59,
   "metadata": {},
   "outputs": [],
   "source": [
    "doc = user.get_assistant()"
   ]
  },
  {
   "cell_type": "code",
   "execution_count": 18,
   "metadata": {},
   "outputs": [
    {
     "ename": "AttributeError",
     "evalue": "'Response' object has no attribute 'html'",
     "output_type": "error",
     "traceback": [
      "\u001b[0;31m---------------------------------------------------------------------------\u001b[0m",
      "\u001b[0;31mAttributeError\u001b[0m                            Traceback (most recent call last)",
      "\u001b[0;32m<ipython-input-18-bd452bd37c09>\u001b[0m in \u001b[0;36m<module>\u001b[0;34m\u001b[0m\n\u001b[0;32m----> 1\u001b[0;31m \u001b[0mdoc\u001b[0m\u001b[0;34m.\u001b[0m\u001b[0mhtml\u001b[0m\u001b[0;34m\u001b[0m\u001b[0;34m\u001b[0m\u001b[0m\n\u001b[0m",
      "\u001b[0;31mAttributeError\u001b[0m: 'Response' object has no attribute 'html'"
     ]
    }
   ],
   "source": [
    "doc.html"
   ]
  },
  {
   "cell_type": "code",
   "execution_count": 37,
   "metadata": {},
   "outputs": [
    {
     "data": {
      "text/plain": [
       "<span>Пн</span>"
      ]
     },
     "execution_count": 37,
     "metadata": {},
     "output_type": "execute_result"
    }
   ],
   "source": [
    "soup = bs(doc.text, 'html.parser')\n",
    "\n"
   ]
  },
  {
   "cell_type": "code",
   "execution_count": 53,
   "metadata": {},
   "outputs": [],
   "source": [
    "table1 = soup.find(id=\"1day\")\n",
    "times_list = table1.find_all(\"td\", attrs={\"class\": \"time\"})"
   ]
  },
  {
   "cell_type": "code",
   "execution_count": 54,
   "metadata": {},
   "outputs": [
    {
     "data": {
      "text/plain": [
       "['08:20-09:50']"
      ]
     },
     "metadata": {},
     "output_type": "display_data"
    }
   ],
   "source": [
    "times_list = [time.span.text for time in times_list]\n",
    "\n",
    "display(times_list)"
   ]
  },
  {
   "cell_type": "code",
   "execution_count": 71,
   "metadata": {},
   "outputs": [],
   "source": [
    "class Bot:\n",
    "    def __init__(self, vk_token):\n",
    "        self.vk_token = vk_token\n",
    "        self.vk = vk_api.VkApi(token = vk_token)\n",
    "        self.longpoll = VkLongPoll(self.vk)\n",
    "        self._COMMANDS = [\"/start\", \"/weather\", \"/help\"]\n",
    "        \n",
    "    def write_msg(self, user_id, message):\n",
    "        self.vk.method('messages.send', {'user_id': user_id, 'message': message, 'random_id': 0})\n",
    "        \n",
    "    def answer(self, request, user_id):\n",
    "        message = \"Я вас не понимаю(\\nВведите /help чтобы получить справку обо мне\"\n",
    "        \n",
    "        if len(request.split(\",\")) == 2:\n",
    "            user = User(\n",
    "                user_id,\n",
    "                request.split(\",\")[1],\n",
    "                request.split(\",\")[0],\n",
    "            )\n",
    "        \n",
    "            user.save()\n",
    "\n",
    "            message = f\"Я вас запомнил, {user.name}! Постараюсь каждое утро вас веселить и держать в курсе дел!\"\n",
    "        \n",
    "        elif request == \"/start\":\n",
    "            if User.is_exist(user_id):\n",
    "                message = f\"Я то вас уже знаю, {User.getById(user_id).name}\"\n",
    "            else:\n",
    "                message = \"Отлично, пожалуйста, введите через запятую то, как я могу вас называть и вашу группу)\"\n",
    "        \n",
    "        elif request == \"/help\":\n",
    "            message = (\n",
    "                       \"/start - регистрация\\n\" + \n",
    "                       \"/weather - получить информацию о погоде\\n\" + \n",
    "                       \"/help - получить справку\\n\"\n",
    "            )\n",
    "        elif request == \"/weather\":\n",
    "            message = get_weather_data()\n",
    "        elif request == \"/assistant\":\n",
    "            message = get_assistant(user_id, 0)\n",
    "            \n",
    "        self.write_msg(user_id, message)\n",
    "        \n",
    "    def run(self):\n",
    "        for event in self.longpoll.listen():   \n",
    "            if event.type == VkEventType.MESSAGE_NEW:\n",
    "                if event.to_me:\n",
    "                    request = event.text\n",
    "\n",
    "                    self.answer(request, event.user_id)\n",
    "                \n",
    "    "
   ]
  },
  {
   "cell_type": "code",
   "execution_count": 61,
   "metadata": {},
   "outputs": [],
   "source": [
    "#global constants\n",
    "weather_api_key = \"af934391a420f5f65302ab3d0691e315\"\n",
    "vk_token = \"53a987ba81983d78efb3f3cc228d8b172146256cd8e65fb900064f6d216f5f6a999ec7d0d9e1cc11486ff\""
   ]
  },
  {
   "cell_type": "code",
   "execution_count": 62,
   "metadata": {},
   "outputs": [],
   "source": [
    "def get_time():\n",
    "    t = time.localtime()\n",
    "    current_time = time.strftime(\"%H:%M:%S\", t)\n",
    "    return current_time"
   ]
  },
  {
   "cell_type": "code",
   "execution_count": 63,
   "metadata": {},
   "outputs": [],
   "source": [
    "def get_weather_data():\n",
    "    global weather_api_key\n",
    "\n",
    "    weather_data = requests.get(\n",
    "        \"https://api.openweathermap.org/data/2.5/weather?\" +\n",
    "            \"q=saint petersburg&\" + \n",
    "            \"units=metric&\" +\n",
    "            \"appid=\" + weather_api_key\n",
    "    )\n",
    "    \n",
    "    message = get_recomendationbyDegree(weather_data.json()[\"main\"][\"temp_min\"])\n",
    "    \n",
    "    return message"
   ]
  },
  {
   "cell_type": "code",
   "execution_count": 64,
   "metadata": {},
   "outputs": [],
   "source": [
    "def get_recomendationbyDegree(degree):\n",
    "    text = \"Сегодня минимальная температура составляет \" + str(degree) + \" градусов по шкале Цельсия. \"\n",
    "    \n",
    "    if degree > 10:\n",
    "        text += (\"Значит можно не надевать подштанники, но осторожно)  \\n \" + \n",
    "                \"Не забудьте только шарфик и шапку с собой взять)\")\n",
    "    elif degree > 0:\n",
    "        text += \"НАДЕВАЙТЕ ПОДШТАННИКИ!!!!\"\n",
    "    elif degree > -10:\n",
    "        text += \"Если у вас ничего нет под штанами, то RIP AND PEACE\"\n",
    "    elif degree > -20:\n",
    "        text += \"Сегодня очень холодно! Брр\"\n",
    "    elif degree > -30:\n",
    "        text += \"Дети из Якутии терпят, и вы терпите)\"\n",
    "    elif degree > -40:\n",
    "        text += \"Это уже не шутки.\"\n",
    "    else:\n",
    "        text += \"НУУУ ООчень холодно((\"\n",
    "    return text"
   ]
  },
  {
   "cell_type": "code",
   "execution_count": null,
   "metadata": {},
   "outputs": [],
   "source": []
  },
  {
   "cell_type": "code",
   "execution_count": null,
   "metadata": {},
   "outputs": [],
   "source": [
    "bot = Bot(vk_token)\n",
    "bot.run()"
   ]
  },
  {
   "cell_type": "code",
   "execution_count": null,
   "metadata": {},
   "outputs": [],
   "source": []
  }
 ],
 "metadata": {
  "kernelspec": {
   "display_name": "cs102",
   "language": "python",
   "name": "cs102"
  },
  "language_info": {
   "codemirror_mode": {
    "name": "ipython",
    "version": 3
   },
   "file_extension": ".py",
   "mimetype": "text/x-python",
   "name": "python",
   "nbconvert_exporter": "python",
   "pygments_lexer": "ipython3",
   "version": "3.7.4"
  }
 },
 "nbformat": 4,
 "nbformat_minor": 4
}
