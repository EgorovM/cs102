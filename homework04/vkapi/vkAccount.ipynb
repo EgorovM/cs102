{
 "cells": [
  {
   "cell_type": "code",
   "execution_count": 1,
   "metadata": {},
   "outputs": [],
   "source": [
    "import vk_api\n",
    "import requests\n",
    "import json\n",
    "import datetime\n",
    "import time"
   ]
  },
  {
   "cell_type": "code",
   "execution_count": 2,
   "metadata": {},
   "outputs": [],
   "source": [
    "#global constants\n",
    "weather_api_key = \"af934391a420f5f65302ab3d0691e315\""
   ]
  },
  {
   "cell_type": "code",
   "execution_count": 8,
   "metadata": {},
   "outputs": [],
   "source": [
    "def get_time():\n",
    "    t = time.localtime()\n",
    "    current_time = time.strftime(\"%H:%M:%S\", t)\n",
    "    return current_time"
   ]
  },
  {
   "cell_type": "code",
   "execution_count": 3,
   "metadata": {},
   "outputs": [],
   "source": [
    "def get_recomendation_byDegree(degree):\n",
    "    text = \"Сегодня минимальная температура составляет \" + str(degree) + \" градусов по шкале Цельсия. \"\n",
    "    \n",
    "    if degree > 10:\n",
    "        text += (\"Значит можно не надевать подштанники, но осторожно)  \\n \" + \n",
    "                \"Не забудьте только шарфик и шапку с собой взять)\")\n",
    "    elif degree > 0:\n",
    "        text += \"НАДЕВАЙТЕ ПОДШТАННИКИ!!!!\"\n",
    "    elif degree > -10:\n",
    "        text += \"Если у вас ничего нет под штанами, то RIP AND PEACE\"\n",
    "    elif degree > -20:\n",
    "        text += \"Сегодня очень холодно! Брр\"\n",
    "    elif degree > -30:\n",
    "        text += \"Дети из Якутии терпят, и вы терпите)\"\n",
    "    elif degree > -40:\n",
    "        text += \"Это уже не шутки.\"\n",
    "    else:\n",
    "        text += \"НУУУ ООчень холодно((\"\n",
    "    return text"
   ]
  },
  {
   "cell_type": "code",
   "execution_count": 4,
   "metadata": {},
   "outputs": [],
   "source": [
    "def get_weather_data():\n",
    "    global weather_api_key\n",
    "\n",
    "    weather_data = requests.get(\n",
    "        \"https://api.openweathermap.org/data/2.5/weather?\" +\n",
    "            \"q=saint petersburg&\" + \n",
    "            \"units=metric&\" +\n",
    "            \"appid=\" + weather_api_key\n",
    "    )\n",
    "    message = get_recomendation_byDegree(weather_data.json()[\"main\"][\"temp_min\"])\n",
    "    \n",
    "    return message"
   ]
  },
  {
   "cell_type": "code",
   "execution_count": 5,
   "metadata": {},
   "outputs": [],
   "source": [
    "vk_session = vk_api.VkApi('+79142639094', 'Emp-040401')\n",
    "vk_session.auth()"
   ]
  },
  {
   "cell_type": "code",
   "execution_count": 6,
   "metadata": {},
   "outputs": [],
   "source": [
    "vk = vk_session.get_api()"
   ]
  },
  {
   "cell_type": "code",
   "execution_count": 9,
   "metadata": {},
   "outputs": [],
   "source": [
    "message = (\n",
    "    \"Еще один добрый день, Петербуржцы! (Если вы не отсюда, то можно листать дальше)\\n\" + \n",
    "    \"Сейчас \" + get_time() + \". Самое время начать ботать!\" + \"\\n\" +\n",
    "    get_weather_data() + \"\\n\" + \n",
    "    \"Всем хорошего дня!\"\n",
    ")"
   ]
  },
  {
   "cell_type": "code",
   "execution_count": 10,
   "metadata": {},
   "outputs": [
    {
     "data": {
      "text/plain": [
       "{'post_id': 322}"
      ]
     },
     "execution_count": 10,
     "metadata": {},
     "output_type": "execute_result"
    }
   ],
   "source": [
    "vk.wall.post(message = message)"
   ]
  },
  {
   "cell_type": "code",
   "execution_count": null,
   "metadata": {},
   "outputs": [],
   "source": []
  }
 ],
 "metadata": {
  "kernelspec": {
   "display_name": "cs102",
   "language": "python",
   "name": "cs102"
  },
  "language_info": {
   "codemirror_mode": {
    "name": "ipython",
    "version": 3
   },
   "file_extension": ".py",
   "mimetype": "text/x-python",
   "name": "python",
   "nbconvert_exporter": "python",
   "pygments_lexer": "ipython3",
   "version": "3.7.4"
  }
 },
 "nbformat": 4,
 "nbformat_minor": 4
}
